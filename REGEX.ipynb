{
 "cells": [
  {
   "cell_type": "code",
   "execution_count": 7,
   "id": "6da4aa78",
   "metadata": {},
   "outputs": [
    {
     "name": "stdout",
     "output_type": "stream",
     "text": [
      "Loop Inputted : \n",
      "\n",
      "for(whole i=0; i<10; i+){\n",
      "print i\n",
      "};\n",
      "\n",
      "\n",
      "Checking run statement: for(whole i=0; i<10; i+){\n",
      "ERROR: Invalid syntax on line 1: for(whole i=0; i<10; i+){\n"
     ]
    }
   ],
   "source": [
    "#REGEX FOR LOOP\n",
    "import re\n",
    "# Define the sample input for the slang loop\n",
    "sample_input = 'for(whole i=0; i<10; i+){\\nprint i\\n};\\n'\n",
    "\n",
    "# Validate each line\n",
    "lines = sample_input.split('\\n')\n",
    "print(\"Loop Inputted : \\n\")\n",
    "for i in range(len(lines)):\n",
    "   print(lines[i])\n",
    "\n",
    "print(\"\\nChecking run statement: \" + lines[0] )\n",
    "if re.match(r'^run\\(whole\\s+i=(-?\\d+);\\s*i<(-?\\d+);\\s*i\\+\\+\\)\\{$', lines[0]):\n",
    "   print(\"run statement is valid!\\n\\n\")\n",
    "   print(\"Checking print statement: \" + lines[1] )\n",
    "   if re.match(r'^print i$', lines[1]):\n",
    "       print(\"print statement is valid!\\n\")\n",
    "       print(\"Checking End of statement: \" + lines[2] )\n",
    "       if re.match(r'^};$', lines[2]):\n",
    "           print(\"End of loop is valid!\")\n",
    "       else:\n",
    "           print(\"ERROR: Invalid syntax on line 3:\", lines[2])\n",
    "   else:\n",
    "       print(\"ERROR: Invalid syntax on line 2:\", lines[1])\n",
    "else:\n",
    "   print(\"ERROR: Invalid syntax on line 1:\", lines[0])"
   ]
  },
  {
   "cell_type": "code",
   "execution_count": null,
   "id": "f8f26928",
   "metadata": {},
   "outputs": [],
   "source": [
    "#REGEX for declaring a variable\n",
    "pattern = r'^whole \\w+$'  # \\w matches any word character (alphanumeric characters and underscores).\n",
    "sample_input = input(\"declare a variable as ('Data_Type  any alphabet/word'): \")\n",
    "\n",
    "match = re.search(pattern, sample_input)\n",
    "print(\"Checking declaration of variable :\" , sample_input)\n",
    "\n",
    "if match:\n",
    "   print(\"Variable declaring method is valid!\")\n",
    "else:\n",
    "   print(\"Invalid way of declaring variable!\")"
   ]
  },
  {
   "cell_type": "code",
   "execution_count": 7,
   "id": "295b39eb",
   "metadata": {},
   "outputs": [
    {
     "name": "stdout",
     "output_type": "stream",
     "text": [
      "initialize a variable such that('Data_Type alphabet/word = any_value'): int x = 92\n",
      "Checking initializing of variable :  int x = 92\n",
      "Variable initialization is not Valid.\n"
     ]
    }
   ],
   "source": [
    "# REGEX for initializing a variable\n",
    "pattern = r'^whole \\w+ = (\\d+)$'\n",
    "sample_input = input(\"initialize a variable such that('Data_Type alphabet/word = any_value'): \")\n",
    "\n",
    "match = re.match(pattern, sample_input)\n",
    "print(\"Checking initializing of variable : \" , sample_input)\n",
    "if match:\n",
    "   value = match.group(1) #the code will extract the captured value using match.group(1)\n",
    "   print(\"Variable initialization is valid and the Value is :\", value)\n",
    "else:\n",
    "   print(\"Variable initialization is not Valid.\")"
   ]
  },
  {
   "cell_type": "code",
   "execution_count": 12,
   "id": "e63fc2c8",
   "metadata": {},
   "outputs": [
    {
     "name": "stdout",
     "output_type": "stream",
     "text": [
      "Initialize a floating variable such that('Data_type  any alphabet/word = any floating value'): dec x = .9\n",
      "Checking the floating variable : dec x = .9\n",
      "Declaration of floating value is not Valid.\n"
     ]
    }
   ],
   "source": [
    "#REGEX for floating value\n",
    "pattern = r'^dec \\w+ = (\\d+(?:\\.\\d+)?)$' #(\\d+(?:\\.\\d+)?) captures the decimal value\n",
    "#(?:\\.\\d+)? matches an optional decimal part consisting of a period followed by one or more digits.\n",
    "sample_input = input(\"Initialize a floating variable such that('Data_type  any alphabet/word = any floating value'): \")\n",
    "\n",
    "match = re.match(pattern, sample_input)\n",
    "print(\"Checking the floating variable :\" , sample_input)\n",
    "\n",
    "if match:\n",
    "    value = match.group(1)  #the code will extract the captured value using match.group(1)\n",
    "    print(\"Declaration of floating value is Valid and the Value is :\", value)\n",
    "else:\n",
    "    print(\"Declaration of floating value is not Valid.\")"
   ]
  }
 ],
 "metadata": {
  "kernelspec": {
   "display_name": "Python 3 (ipykernel)",
   "language": "python",
   "name": "python3"
  },
  "language_info": {
   "codemirror_mode": {
    "name": "ipython",
    "version": 3
   },
   "file_extension": ".py",
   "mimetype": "text/x-python",
   "name": "python",
   "nbconvert_exporter": "python",
   "pygments_lexer": "ipython3",
   "version": "3.10.9"
  }
 },
 "nbformat": 4,
 "nbformat_minor": 5
}
